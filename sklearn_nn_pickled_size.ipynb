{
 "cells": [
  {
   "cell_type": "markdown",
   "metadata": {},
   "source": [
    "This notebook compares the size of serialized sklearn `NearestNeighbors` models depending of the neighboring algorithm."
   ]
  },
  {
   "cell_type": "code",
   "execution_count": 1,
   "metadata": {},
   "outputs": [],
   "source": [
    "import itertools\n",
    "import numpy as np\n",
    "import os\n",
    "import pandas as pd\n",
    "import pickle\n",
    "\n",
    "from sklearn.neighbors import NearestNeighbors"
   ]
  },
  {
   "cell_type": "code",
   "execution_count": 2,
   "metadata": {},
   "outputs": [
    {
     "name": "stdout",
     "output_type": "stream",
     "text": [
      "CPU times: user 34.8 s, sys: 2.7 s, total: 37.5 s\n",
      "Wall time: 38.2 s\n"
     ]
    }
   ],
   "source": [
    "%%time\n",
    "\n",
    "n_samples_range = np.logspace(3, 5, num=3, base=10, dtype=int)\n",
    "n_features_range = np.logspace(1, 3, num=3, base=10, dtype=int)\n",
    "\n",
    "algorithms = ['brute', 'kd_tree', 'ball_tree']\n",
    "temp_path = 'temp_model.pickle'\n",
    "results = []\n",
    "\n",
    "for n_samples, n_features in itertools.product(n_samples_range, n_features_range):\n",
    "    experiment_results = {'n_samples': n_samples, 'n_features': n_features}\n",
    "    X = np.random.randn(n_samples, n_features)\n",
    "    \n",
    "    for algo in algorithms:\n",
    "        model = NearestNeighbors(algorithm=algo)\n",
    "        model.fit(X)\n",
    "        \n",
    "        pickle.dump(model, open(temp_path, 'wb'))\n",
    "        pickle_size = os.path.getsize(temp_path)\n",
    "        \n",
    "        experiment_results[f'{algo}'] =  round(pickle_size / 1e6, 2)\n",
    "    \n",
    "    results.append(experiment_results)\n",
    "\n",
    "os.remove(temp_path)"
   ]
  },
  {
   "cell_type": "code",
   "execution_count": 3,
   "metadata": {},
   "outputs": [
    {
     "name": "stdout",
     "output_type": "stream",
     "text": [
      "|    |   n_samples |   n_features |   brute |   kd_tree |   ball_tree |\n",
      "|---:|------------:|-------------:|--------:|----------:|------------:|\n",
      "|  0 |        1000 |           10 |    0.08 |      0.1  |        0.1  |\n",
      "|  1 |        1000 |          100 |    0.8  |      0.91 |        0.86 |\n",
      "|  2 |        1000 |         1000 |    8    |      9.02 |        8.52 |\n",
      "|  3 |       10000 |           10 |    0.8  |      0.98 |        0.94 |\n",
      "|  4 |       10000 |          100 |    8    |      8.91 |        8.51 |\n",
      "|  5 |       10000 |         1000 |   80    |     88.27 |       84.19 |\n",
      "|  6 |      100000 |           10 |    8    |      9.59 |        9.26 |\n",
      "|  7 |      100000 |          100 |   80    |     87.48 |       84.21 |\n",
      "|  8 |      100000 |         1000 |  800    |    866.45 |      833.69 |\n"
     ]
    }
   ],
   "source": [
    "df = pd.DataFrame(results)\n",
    "print(df.to_markdown())"
   ]
  }
 ],
 "metadata": {
  "kernelspec": {
   "display_name": "Python 3",
   "language": "python",
   "name": "python3"
  },
  "language_info": {
   "codemirror_mode": {
    "name": "ipython",
    "version": 3
   },
   "file_extension": ".py",
   "mimetype": "text/x-python",
   "name": "python",
   "nbconvert_exporter": "python",
   "pygments_lexer": "ipython3",
   "version": "3.8.2"
  }
 },
 "nbformat": 4,
 "nbformat_minor": 4
}
